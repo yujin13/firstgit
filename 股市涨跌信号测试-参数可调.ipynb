{
 "cells": [
  {
   "cell_type": "code",
   "execution_count": 1,
   "metadata": {},
   "outputs": [],
   "source": [
    "import pandas as pd\n",
    "import numpy as np\n",
    "import matplotlib.pyplot as plt"
   ]
  },
  {
   "cell_type": "markdown",
   "metadata": {},
   "source": [
    "## 参数设置\n",
    "结果显示signalN = 3比6时超额收益大很多"
   ]
  },
  {
   "cell_type": "code",
   "execution_count": 2,
   "metadata": {},
   "outputs": [],
   "source": [
    "##%% 重要参数设置\n",
    "##%% 设置用多少个月的A股收益率作凸度信号\n",
    "signalN = 3\n",
    "##%% 设置从哪一年开始(最小2003)\n",
    "BeginYear = 2006\n",
    "## 设定多空临界值\n",
    "door = 0.0"
   ]
  },
  {
   "cell_type": "code",
   "execution_count": 3,
   "metadata": {},
   "outputs": [],
   "source": [
    "bond1 = pd.read_excel('中债-国开行债券总财富(1-3年)指数.xlsx',usecols=[2,6],index_col=0)['2003':]\n",
    "bond5 = pd.read_excel('中债-国开行债券总财富(3-5年)指数.xlsx',usecols=[2,6],index_col=0)['2003':]\n",
    "bond10 = pd.read_excel('中债-国开行债券总财富(7-10年)指数.xlsx',usecols=[2,6],index_col=0)['2003':]\n",
    "hs300 = pd.read_excel('沪深300月度2002起.xlsx',usecols=[2,6],index_col=0)['2003':][:-1]"
   ]
  },
  {
   "cell_type": "code",
   "execution_count": 4,
   "metadata": {},
   "outputs": [],
   "source": [
    "hs300.index = bond1.index"
   ]
  },
  {
   "cell_type": "code",
   "execution_count": 5,
   "metadata": {},
   "outputs": [
    {
     "data": {
      "text/html": [
       "<div>\n",
       "<style scoped>\n",
       "    .dataframe tbody tr th:only-of-type {\n",
       "        vertical-align: middle;\n",
       "    }\n",
       "\n",
       "    .dataframe tbody tr th {\n",
       "        vertical-align: top;\n",
       "    }\n",
       "\n",
       "    .dataframe thead th {\n",
       "        text-align: right;\n",
       "    }\n",
       "</style>\n",
       "<table border=\"1\" class=\"dataframe\">\n",
       "  <thead>\n",
       "    <tr style=\"text-align: right;\">\n",
       "      <th></th>\n",
       "      <th>收盘价(元)</th>\n",
       "    </tr>\n",
       "    <tr>\n",
       "      <th>日期</th>\n",
       "      <th></th>\n",
       "    </tr>\n",
       "  </thead>\n",
       "  <tbody>\n",
       "    <tr>\n",
       "      <th>2019-01-31</th>\n",
       "      <td>192.51</td>\n",
       "    </tr>\n",
       "    <tr>\n",
       "      <th>2019-02-28</th>\n",
       "      <td>191.66</td>\n",
       "    </tr>\n",
       "    <tr>\n",
       "      <th>2019-03-29</th>\n",
       "      <td>192.84</td>\n",
       "    </tr>\n",
       "    <tr>\n",
       "      <th>2019-04-30</th>\n",
       "      <td>191.23</td>\n",
       "    </tr>\n",
       "    <tr>\n",
       "      <th>2019-05-21</th>\n",
       "      <td>192.68</td>\n",
       "    </tr>\n",
       "  </tbody>\n",
       "</table>\n",
       "</div>"
      ],
      "text/plain": [
       "            收盘价(元)\n",
       "日期                \n",
       "2019-01-31  192.51\n",
       "2019-02-28  191.66\n",
       "2019-03-29  192.84\n",
       "2019-04-30  191.23\n",
       "2019-05-21  192.68"
      ]
     },
     "execution_count": 5,
     "metadata": {},
     "output_type": "execute_result"
    }
   ],
   "source": [
    "bond10.tail()"
   ]
  },
  {
   "cell_type": "code",
   "execution_count": 6,
   "metadata": {},
   "outputs": [],
   "source": [
    "bonds = pd.concat([bond1, bond5, bond10, hs300],axis = 1)\n",
    "bonds.columns = ['1year','5year','10year','hs300']\n",
    "bonds = bonds[:-1]"
   ]
  },
  {
   "cell_type": "code",
   "execution_count": 7,
   "metadata": {},
   "outputs": [
    {
     "data": {
      "text/html": [
       "<div>\n",
       "<style scoped>\n",
       "    .dataframe tbody tr th:only-of-type {\n",
       "        vertical-align: middle;\n",
       "    }\n",
       "\n",
       "    .dataframe tbody tr th {\n",
       "        vertical-align: top;\n",
       "    }\n",
       "\n",
       "    .dataframe thead th {\n",
       "        text-align: right;\n",
       "    }\n",
       "</style>\n",
       "<table border=\"1\" class=\"dataframe\">\n",
       "  <thead>\n",
       "    <tr style=\"text-align: right;\">\n",
       "      <th></th>\n",
       "      <th>1year</th>\n",
       "      <th>5year</th>\n",
       "      <th>10year</th>\n",
       "      <th>hs300</th>\n",
       "    </tr>\n",
       "    <tr>\n",
       "      <th>日期</th>\n",
       "      <th></th>\n",
       "      <th></th>\n",
       "      <th></th>\n",
       "      <th></th>\n",
       "    </tr>\n",
       "  </thead>\n",
       "  <tbody>\n",
       "    <tr>\n",
       "      <th>2018-12-31</th>\n",
       "      <td>176.92</td>\n",
       "      <td>187.02</td>\n",
       "      <td>191.80</td>\n",
       "      <td>3010.65</td>\n",
       "    </tr>\n",
       "    <tr>\n",
       "      <th>2019-01-31</th>\n",
       "      <td>178.19</td>\n",
       "      <td>189.21</td>\n",
       "      <td>192.51</td>\n",
       "      <td>3201.63</td>\n",
       "    </tr>\n",
       "    <tr>\n",
       "      <th>2019-02-28</th>\n",
       "      <td>178.57</td>\n",
       "      <td>188.88</td>\n",
       "      <td>191.66</td>\n",
       "      <td>3669.37</td>\n",
       "    </tr>\n",
       "    <tr>\n",
       "      <th>2019-03-29</th>\n",
       "      <td>179.02</td>\n",
       "      <td>189.38</td>\n",
       "      <td>192.84</td>\n",
       "      <td>3872.34</td>\n",
       "    </tr>\n",
       "    <tr>\n",
       "      <th>2019-04-30</th>\n",
       "      <td>178.60</td>\n",
       "      <td>188.09</td>\n",
       "      <td>191.23</td>\n",
       "      <td>3913.21</td>\n",
       "    </tr>\n",
       "  </tbody>\n",
       "</table>\n",
       "</div>"
      ],
      "text/plain": [
       "             1year   5year  10year    hs300\n",
       "日期                                         \n",
       "2018-12-31  176.92  187.02  191.80  3010.65\n",
       "2019-01-31  178.19  189.21  192.51  3201.63\n",
       "2019-02-28  178.57  188.88  191.66  3669.37\n",
       "2019-03-29  179.02  189.38  192.84  3872.34\n",
       "2019-04-30  178.60  188.09  191.23  3913.21"
      ]
     },
     "execution_count": 7,
     "metadata": {},
     "output_type": "execute_result"
    }
   ],
   "source": [
    "bonds.tail()"
   ]
  },
  {
   "cell_type": "code",
   "execution_count": 8,
   "metadata": {},
   "outputs": [],
   "source": [
    "monthR = bonds/bonds.shift(1)-1\n",
    "monthR = monthR[str(BeginYear):].fillna(0)\n",
    "signal = bonds['hs300']/bonds['hs300'].shift(signalN)-1\n",
    "signal = signal.shift(1)[str(BeginYear):].fillna(0)\n",
    "LongDivShort = monthR['10year']-monthR['1year']"
   ]
  },
  {
   "cell_type": "code",
   "execution_count": 9,
   "metadata": {},
   "outputs": [
    {
     "data": {
      "text/plain": [
       "[<matplotlib.lines.Line2D at 0x1bb22703b70>]"
      ]
     },
     "execution_count": 9,
     "metadata": {},
     "output_type": "execute_result"
    },
    {
     "data": {
      "image/png": "[encoded data removed]",
      "text/plain": [
       "<Figure size 432x288 with 1 Axes>"
      ]
     },
     "metadata": {},
     "output_type": "display_data"
    }
   ],
   "source": [
    "plt.plot(list(signal),list(LongDivShort),'*')"
   ]
  },
  {
   "cell_type": "code",
   "execution_count": 10,
   "metadata": {},
   "outputs": [],
   "source": [
    "shortSignal = (signal>=door)\n",
    "longSignal = (signal<door)\n",
    "HSsignalR = longSignal*monthR['10year']+shortSignal*monthR['1year']\n",
    "HSsignalR = pd.DataFrame(HSsignalR.fillna(0),columns=['HSsignal'])\n",
    "meanWeightR = pd.DataFrame(monthR[['1year','10year']].mean(axis=1),columns = ['1&10meanWeight'])\n",
    "HSsignalAllR = pd.concat([monthR[['1year','10year']],meanWeightR,HSsignalR],axis=1)\n",
    "HSsignalAll = ((HSsignalAllR+1).cumprod())*100"
   ]
  },
  {
   "cell_type": "code",
   "execution_count": 11,
   "metadata": {},
   "outputs": [
    {
     "data": {
      "text/plain": [
       "<matplotlib.axes._subplots.AxesSubplot at 0x1bb226becf8>"
      ]
     },
     "execution_count": 11,
     "metadata": {},
     "output_type": "execute_result"
    },
    {
     "data": {
      "image/png": "[encoded data removed]",
      "text/plain": [
       "<Figure size 432x288 with 1 Axes>"
      ]
     },
     "metadata": {},
     "output_type": "display_data"
    }
   ],
   "source": [
    "HSsignalAll.plot()"
   ]
  },
  {
   "cell_type": "code",
   "execution_count": 12,
   "metadata": {},
   "outputs": [
    {
     "data": {
      "text/plain": [
       "<matplotlib.axes._subplots.AxesSubplot at 0x1bb228f6d68>"
      ]
     },
     "execution_count": 12,
     "metadata": {},
     "output_type": "execute_result"
    },
    {
     "data": {
      "image/png": "[encoded data removed]",
      "text/plain": [
       "<Figure size 432x288 with 1 Axes>"
      ]
     },
     "metadata": {},
     "output_type": "display_data"
    }
   ],
   "source": [
    "HSsignalAll[['1&10meanWeight','HSsignal']].plot()"
   ]
  },
  {
   "cell_type": "code",
   "execution_count": 13,
   "metadata": {},
   "outputs": [],
   "source": [
    "yearExcess = pd.DataFrame(index = np.arange(BeginYear,2020),columns = ['ExcessReturn'])\n",
    "for year in range(BeginYear,2020):\n",
    "    MonthReturn = HSsignalAllR[str(year)][['1&10meanWeight','HSsignal']]\n",
    "    YearReturn = (MonthReturn+1).prod()-1\n",
    "    yearExcess['ExcessReturn'][year]=YearReturn['HSsignal']-YearReturn['1&10meanWeight']"
   ]
  },
  {
   "cell_type": "code",
   "execution_count": 14,
   "metadata": {},
   "outputs": [
    {
     "data": {
      "text/plain": [
       "<matplotlib.axes._subplots.AxesSubplot at 0x1bb22814ba8>"
      ]
     },
     "execution_count": 14,
     "metadata": {},
     "output_type": "execute_result"
    },
    {
     "data": {
      "image/png": "[encoded data removed]",
      "text/plain": [
       "<Figure size 432x288 with 1 Axes>"
      ]
     },
     "metadata": {},
     "output_type": "display_data"
    }
   ],
   "source": [
    "yearExcess.plot(kind = 'bar')"
   ]
  },
  {
   "cell_type": "code",
   "execution_count": 15,
   "metadata": {},
   "outputs": [
    {
     "data": {
      "text/plain": [
       "0.25050805643598467"
      ]
     },
     "execution_count": 15,
     "metadata": {},
     "output_type": "execute_result"
    }
   ],
   "source": [
    "##累计超额收益\n",
    "(HSsignalAll['HSsignal'][-1]-HSsignalAll['1&10meanWeight'][-1])/100"
   ]
  },
  {
   "cell_type": "code",
   "execution_count": null,
   "metadata": {},
   "outputs": [],
   "source": []
  }
 ],
 "metadata": {
  "kernelspec": {
   "display_name": "Python 3",
   "language": "python",
   "name": "python3"
  },
  "language_info": {
   "codemirror_mode": {
    "name": "ipython",
    "version": 3
   },
   "file_extension": ".py",
   "mimetype": "text/x-python",
   "name": "python",
   "nbconvert_exporter": "python",
   "pygments_lexer": "ipython3",
   "version": "3.6.5"
  }
 },
 "nbformat": 4,
 "nbformat_minor": 2
}
