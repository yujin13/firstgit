{
 "cells": [
  {
   "cell_type": "code",
   "execution_count": 1,
   "metadata": {},
   "outputs": [],
   "source": [
    "import pandas as pd\n",
    "import numpy as np\n",
    "from datetime import datetime\n",
    "from sklearn.decomposition import PCA"
   ]
  },
  {
   "cell_type": "code",
   "execution_count": 2,
   "metadata": {},
   "outputs": [],
   "source": [
    "import matplotlib.pyplot as plt\n",
    "import matplotlib\n",
    "zhfont1 = matplotlib.font_manager.FontProperties(fname='C:\\Windows\\Fonts\\simkai.ttf')"
   ]
  },
  {
   "cell_type": "markdown",
   "metadata": {},
   "source": [
    "## 读取数据"
   ]
  },
  {
   "cell_type": "code",
   "execution_count": 3,
   "metadata": {},
   "outputs": [],
   "source": [
    "df = pd.read_excel('社融&国房指数.xls',index_col = 0)\n",
    "df.index = pd.to_datetime(df.index)"
   ]
  },
  {
   "cell_type": "code",
   "execution_count": 4,
   "metadata": {},
   "outputs": [
    {
     "data": {
      "text/html": [
       "<div>\n",
       "<style scoped>\n",
       "    .dataframe tbody tr th:only-of-type {\n",
       "        vertical-align: middle;\n",
       "    }\n",
       "\n",
       "    .dataframe tbody tr th {\n",
       "        vertical-align: top;\n",
       "    }\n",
       "\n",
       "    .dataframe thead th {\n",
       "        text-align: right;\n",
       "    }\n",
       "</style>\n",
       "<table border=\"1\" class=\"dataframe\">\n",
       "  <thead>\n",
       "    <tr style=\"text-align: right;\">\n",
       "      <th></th>\n",
       "      <th>社会融资规模:当月值</th>\n",
       "      <th>国房景气指数</th>\n",
       "    </tr>\n",
       "  </thead>\n",
       "  <tbody>\n",
       "    <tr>\n",
       "      <th>2002-01-31</th>\n",
       "      <td>-472.0</td>\n",
       "      <td>103.91</td>\n",
       "    </tr>\n",
       "    <tr>\n",
       "      <th>2002-02-28</th>\n",
       "      <td>289.0</td>\n",
       "      <td>103.53</td>\n",
       "    </tr>\n",
       "    <tr>\n",
       "      <th>2002-03-31</th>\n",
       "      <td>3136.0</td>\n",
       "      <td>103.87</td>\n",
       "    </tr>\n",
       "    <tr>\n",
       "      <th>2002-04-30</th>\n",
       "      <td>1151.0</td>\n",
       "      <td>104.37</td>\n",
       "    </tr>\n",
       "    <tr>\n",
       "      <th>2002-05-31</th>\n",
       "      <td>1774.0</td>\n",
       "      <td>104.60</td>\n",
       "    </tr>\n",
       "  </tbody>\n",
       "</table>\n",
       "</div>"
      ],
      "text/plain": [
       "            社会融资规模:当月值  国房景气指数\n",
       "2002-01-31      -472.0  103.91\n",
       "2002-02-28       289.0  103.53\n",
       "2002-03-31      3136.0  103.87\n",
       "2002-04-30      1151.0  104.37\n",
       "2002-05-31      1774.0  104.60"
      ]
     },
     "execution_count": 4,
     "metadata": {},
     "output_type": "execute_result"
    }
   ],
   "source": [
    "df.head()"
   ]
  },
  {
   "cell_type": "code",
   "execution_count": 5,
   "metadata": {},
   "outputs": [],
   "source": [
    "dollar = pd.read_excel('美元指数.xls',index_col = 0)\n",
    "interest = pd.read_excel('1年期国债收益率.xls',index_col = 0)"
   ]
  },
  {
   "cell_type": "code",
   "execution_count": 6,
   "metadata": {},
   "outputs": [
    {
     "data": {
      "text/html": [
       "<div>\n",
       "<style scoped>\n",
       "    .dataframe tbody tr th:only-of-type {\n",
       "        vertical-align: middle;\n",
       "    }\n",
       "\n",
       "    .dataframe tbody tr th {\n",
       "        vertical-align: top;\n",
       "    }\n",
       "\n",
       "    .dataframe thead th {\n",
       "        text-align: right;\n",
       "    }\n",
       "</style>\n",
       "<table border=\"1\" class=\"dataframe\">\n",
       "  <thead>\n",
       "    <tr style=\"text-align: right;\">\n",
       "      <th></th>\n",
       "      <th>美元指数</th>\n",
       "    </tr>\n",
       "  </thead>\n",
       "  <tbody>\n",
       "    <tr>\n",
       "      <th>2019-04-24</th>\n",
       "      <td>98.0905</td>\n",
       "    </tr>\n",
       "    <tr>\n",
       "      <th>2019-04-25</th>\n",
       "      <td>98.1789</td>\n",
       "    </tr>\n",
       "    <tr>\n",
       "      <th>2019-04-26</th>\n",
       "      <td>98.0330</td>\n",
       "    </tr>\n",
       "    <tr>\n",
       "      <th>2019-04-29</th>\n",
       "      <td>97.8394</td>\n",
       "    </tr>\n",
       "    <tr>\n",
       "      <th>2019-04-30</th>\n",
       "      <td>97.5235</td>\n",
       "    </tr>\n",
       "  </tbody>\n",
       "</table>\n",
       "</div>"
      ],
      "text/plain": [
       "               美元指数\n",
       "2019-04-24  98.0905\n",
       "2019-04-25  98.1789\n",
       "2019-04-26  98.0330\n",
       "2019-04-29  97.8394\n",
       "2019-04-30  97.5235"
      ]
     },
     "execution_count": 6,
     "metadata": {},
     "output_type": "execute_result"
    }
   ],
   "source": [
    "dollar.tail()"
   ]
  },
  {
   "cell_type": "code",
   "execution_count": 7,
   "metadata": {},
   "outputs": [
    {
     "data": {
      "text/html": [
       "<div>\n",
       "<style scoped>\n",
       "    .dataframe tbody tr th:only-of-type {\n",
       "        vertical-align: middle;\n",
       "    }\n",
       "\n",
       "    .dataframe tbody tr th {\n",
       "        vertical-align: top;\n",
       "    }\n",
       "\n",
       "    .dataframe thead th {\n",
       "        text-align: right;\n",
       "    }\n",
       "</style>\n",
       "<table border=\"1\" class=\"dataframe\">\n",
       "  <thead>\n",
       "    <tr style=\"text-align: right;\">\n",
       "      <th></th>\n",
       "      <th>中债国债到期收益率:1年</th>\n",
       "    </tr>\n",
       "  </thead>\n",
       "  <tbody>\n",
       "    <tr>\n",
       "      <th>2019-04-25</th>\n",
       "      <td>2.6902</td>\n",
       "    </tr>\n",
       "    <tr>\n",
       "      <th>2019-04-26</th>\n",
       "      <td>2.6742</td>\n",
       "    </tr>\n",
       "    <tr>\n",
       "      <th>2019-04-28</th>\n",
       "      <td>2.6988</td>\n",
       "    </tr>\n",
       "    <tr>\n",
       "      <th>2019-04-29</th>\n",
       "      <td>2.7223</td>\n",
       "    </tr>\n",
       "    <tr>\n",
       "      <th>2019-04-30</th>\n",
       "      <td>2.6902</td>\n",
       "    </tr>\n",
       "  </tbody>\n",
       "</table>\n",
       "</div>"
      ],
      "text/plain": [
       "            中债国债到期收益率:1年\n",
       "2019-04-25        2.6902\n",
       "2019-04-26        2.6742\n",
       "2019-04-28        2.6988\n",
       "2019-04-29        2.7223\n",
       "2019-04-30        2.6902"
      ]
     },
     "execution_count": 7,
     "metadata": {},
     "output_type": "execute_result"
    }
   ],
   "source": [
    "interest.tail()"
   ]
  },
  {
   "cell_type": "code",
   "execution_count": 8,
   "metadata": {},
   "outputs": [],
   "source": [
    "#日度时间序列\n",
    "oldtimes = df.index[:-1]"
   ]
  },
  {
   "cell_type": "code",
   "execution_count": 9,
   "metadata": {},
   "outputs": [],
   "source": [
    "# 月度时间序列\n",
    "newtimes = []\n",
    "for thetime in oldtimes:\n",
    "    if thetime.month != 1:\n",
    "        newtimes.append(thetime)"
   ]
  },
  {
   "cell_type": "markdown",
   "metadata": {},
   "source": [
    "## 所有指标处理成月度数据"
   ]
  },
  {
   "cell_type": "code",
   "execution_count": 10,
   "metadata": {},
   "outputs": [],
   "source": [
    "alldata = pd.DataFrame(index = newtimes, columns = ['社融规模mean','社融规模sum','社融规模last','国房景气指数','美元指数','国债收益率'])\n",
    "for thetime in newtimes:\n",
    "    alldata['国房景气指数'][thetime] = df['国房景气指数'][thetime]\n",
    "    if thetime.month !=2:\n",
    "        themonth = str(thetime)[:7]\n",
    "        alldata['社融规模mean'][thetime] = df['社会融资规模:当月值'][thetime]        \n",
    "        alldata['社融规模sum'][thetime] = df['社会融资规模:当月值'][thetime] \n",
    "        alldata['社融规模last'][thetime] = df['社会融资规模:当月值'][thetime]\n",
    "        alldata['美元指数'][thetime] = dollar[themonth].mean().values[0]\n",
    "        alldata['国债收益率'][thetime] = interest[themonth].mean().values[0]\n",
    "    else:\n",
    "        themonth = str(thetime)[:7]\n",
    "        lastmonth = str(thetime.year) + '-01'\n",
    "        alldata['社融规模mean'][thetime] = df['社会融资规模:当月值'][lastmonth:themonth].mean()\n",
    "        alldata['社融规模sum'][thetime] = df['社会融资规模:当月值'][lastmonth:themonth].sum()\n",
    "        alldata['社融规模last'][thetime] = df['社会融资规模:当月值'][lastmonth].values[0]\n",
    "        alldata['美元指数'][thetime] = dollar[lastmonth:themonth].mean().values[0]\n",
    "        alldata['国债收益率'][thetime] = interest[lastmonth:themonth].mean().values[0]"
   ]
  },
  {
   "cell_type": "code",
   "execution_count": 11,
   "metadata": {},
   "outputs": [
    {
     "data": {
      "text/html": [
       "<div>\n",
       "<style scoped>\n",
       "    .dataframe tbody tr th:only-of-type {\n",
       "        vertical-align: middle;\n",
       "    }\n",
       "\n",
       "    .dataframe tbody tr th {\n",
       "        vertical-align: top;\n",
       "    }\n",
       "\n",
       "    .dataframe thead th {\n",
       "        text-align: right;\n",
       "    }\n",
       "</style>\n",
       "<table border=\"1\" class=\"dataframe\">\n",
       "  <thead>\n",
       "    <tr style=\"text-align: right;\">\n",
       "      <th></th>\n",
       "      <th>社融规模mean</th>\n",
       "      <th>社融规模sum</th>\n",
       "      <th>社融规模last</th>\n",
       "      <th>国房景气指数</th>\n",
       "      <th>美元指数</th>\n",
       "      <th>国债收益率</th>\n",
       "    </tr>\n",
       "  </thead>\n",
       "  <tbody>\n",
       "    <tr>\n",
       "      <th>2002-02-28</th>\n",
       "      <td>-91.5</td>\n",
       "      <td>-183</td>\n",
       "      <td>-472</td>\n",
       "      <td>103.53</td>\n",
       "      <td>118.339</td>\n",
       "      <td>2.15214</td>\n",
       "    </tr>\n",
       "    <tr>\n",
       "      <th>2002-03-31</th>\n",
       "      <td>3136</td>\n",
       "      <td>3136</td>\n",
       "      <td>3136</td>\n",
       "      <td>103.87</td>\n",
       "      <td>117.955</td>\n",
       "      <td>1.9575</td>\n",
       "    </tr>\n",
       "    <tr>\n",
       "      <th>2002-04-30</th>\n",
       "      <td>1151</td>\n",
       "      <td>1151</td>\n",
       "      <td>1151</td>\n",
       "      <td>104.37</td>\n",
       "      <td>116.884</td>\n",
       "      <td>1.97943</td>\n",
       "    </tr>\n",
       "    <tr>\n",
       "      <th>2002-05-31</th>\n",
       "      <td>1774</td>\n",
       "      <td>1774</td>\n",
       "      <td>1774</td>\n",
       "      <td>104.6</td>\n",
       "      <td>113.383</td>\n",
       "      <td>1.88149</td>\n",
       "    </tr>\n",
       "    <tr>\n",
       "      <th>2002-06-30</th>\n",
       "      <td>2621</td>\n",
       "      <td>2621</td>\n",
       "      <td>2621</td>\n",
       "      <td>104.65</td>\n",
       "      <td>109.586</td>\n",
       "      <td>1.79802</td>\n",
       "    </tr>\n",
       "  </tbody>\n",
       "</table>\n",
       "</div>"
      ],
      "text/plain": [
       "           社融规模mean 社融规模sum 社融规模last  国房景气指数     美元指数    国债收益率\n",
       "2002-02-28    -91.5    -183     -472  103.53  118.339  2.15214\n",
       "2002-03-31     3136    3136     3136  103.87  117.955   1.9575\n",
       "2002-04-30     1151    1151     1151  104.37  116.884  1.97943\n",
       "2002-05-31     1774    1774     1774   104.6  113.383  1.88149\n",
       "2002-06-30     2621    2621     2621  104.65  109.586  1.79802"
      ]
     },
     "execution_count": 11,
     "metadata": {},
     "output_type": "execute_result"
    }
   ],
   "source": [
    "alldata.head()"
   ]
  },
  {
   "cell_type": "code",
   "execution_count": 12,
   "metadata": {},
   "outputs": [
    {
     "data": {
      "text/plain": [
       "社融规模mean    0\n",
       "社融规模sum     0\n",
       "社融规模last    0\n",
       "国房景气指数      0\n",
       "美元指数        0\n",
       "国债收益率       0\n",
       "dtype: int64"
      ]
     },
     "execution_count": 12,
     "metadata": {},
     "output_type": "execute_result"
    }
   ],
   "source": [
    "alldata.isna().sum()"
   ]
  },
  {
   "cell_type": "markdown",
   "metadata": {},
   "source": [
    "## MA与延期处理"
   ]
  },
  {
   "cell_type": "code",
   "execution_count": 13,
   "metadata": {},
   "outputs": [],
   "source": [
    "alldata['国债收益率shift11'] = alldata['国债收益率'].shift(11)\n",
    "alldata['社融sum_MA11'] = alldata['社融规模sum'].rolling(11).mean()"
   ]
  },
  {
   "cell_type": "code",
   "execution_count": 14,
   "metadata": {},
   "outputs": [],
   "source": [
    "alldata = alldata.dropna()"
   ]
  },
  {
   "cell_type": "code",
   "execution_count": 15,
   "metadata": {},
   "outputs": [],
   "source": [
    "alldata['新增社融sum'] = alldata['社融sum_MA11']/alldata['社融sum_MA11'].shift(11) - 1"
   ]
  },
  {
   "cell_type": "code",
   "execution_count": 16,
   "metadata": {},
   "outputs": [],
   "source": [
    "alldata = alldata.dropna()"
   ]
  },
  {
   "cell_type": "code",
   "execution_count": 17,
   "metadata": {},
   "outputs": [
    {
     "data": {
      "text/html": [
       "<div>\n",
       "<style scoped>\n",
       "    .dataframe tbody tr th:only-of-type {\n",
       "        vertical-align: middle;\n",
       "    }\n",
       "\n",
       "    .dataframe tbody tr th {\n",
       "        vertical-align: top;\n",
       "    }\n",
       "\n",
       "    .dataframe thead th {\n",
       "        text-align: right;\n",
       "    }\n",
       "</style>\n",
       "<table border=\"1\" class=\"dataframe\">\n",
       "  <thead>\n",
       "    <tr style=\"text-align: right;\">\n",
       "      <th></th>\n",
       "      <th>社融规模mean</th>\n",
       "      <th>社融规模sum</th>\n",
       "      <th>社融规模last</th>\n",
       "      <th>国房景气指数</th>\n",
       "      <th>美元指数</th>\n",
       "      <th>国债收益率</th>\n",
       "      <th>国债收益率shift11</th>\n",
       "      <th>社融sum_MA11</th>\n",
       "      <th>新增社融sum</th>\n",
       "    </tr>\n",
       "  </thead>\n",
       "  <tbody>\n",
       "    <tr>\n",
       "      <th>2004-02-29</th>\n",
       "      <td>1276</td>\n",
       "      <td>2552</td>\n",
       "      <td>2114</td>\n",
       "      <td>106.58</td>\n",
       "      <td>86.3898</td>\n",
       "      <td>2.39231</td>\n",
       "      <td>1.6556</td>\n",
       "      <td>2934.636364</td>\n",
       "      <td>0.307982</td>\n",
       "    </tr>\n",
       "    <tr>\n",
       "      <th>2004-03-31</th>\n",
       "      <td>6557</td>\n",
       "      <td>6557</td>\n",
       "      <td>6557</td>\n",
       "      <td>106.11</td>\n",
       "      <td>88.4578</td>\n",
       "      <td>2.48729</td>\n",
       "      <td>1.7344</td>\n",
       "      <td>3163.363636</td>\n",
       "      <td>0.360055</td>\n",
       "    </tr>\n",
       "    <tr>\n",
       "      <th>2004-04-30</th>\n",
       "      <td>2731</td>\n",
       "      <td>2731</td>\n",
       "      <td>2731</td>\n",
       "      <td>105.48</td>\n",
       "      <td>89.7995</td>\n",
       "      <td>2.66014</td>\n",
       "      <td>1.92496</td>\n",
       "      <td>3173.272727</td>\n",
       "      <td>0.290139</td>\n",
       "    </tr>\n",
       "    <tr>\n",
       "      <th>2004-05-31</th>\n",
       "      <td>2443</td>\n",
       "      <td>2443</td>\n",
       "      <td>2443</td>\n",
       "      <td>105</td>\n",
       "      <td>90.4729</td>\n",
       "      <td>2.84195</td>\n",
       "      <td>2.04215</td>\n",
       "      <td>3125.272727</td>\n",
       "      <td>0.216791</td>\n",
       "    </tr>\n",
       "    <tr>\n",
       "      <th>2004-06-30</th>\n",
       "      <td>3229</td>\n",
       "      <td>3229</td>\n",
       "      <td>3229</td>\n",
       "      <td>104.8</td>\n",
       "      <td>89.155</td>\n",
       "      <td>2.95709</td>\n",
       "      <td>2.17655</td>\n",
       "      <td>2887.727273</td>\n",
       "      <td>0.009246</td>\n",
       "    </tr>\n",
       "  </tbody>\n",
       "</table>\n",
       "</div>"
      ],
      "text/plain": [
       "           社融规模mean 社融规模sum 社融规模last  国房景气指数     美元指数    国债收益率 国债收益率shift11  \\\n",
       "2004-02-29     1276    2552     2114  106.58  86.3898  2.39231       1.6556   \n",
       "2004-03-31     6557    6557     6557  106.11  88.4578  2.48729       1.7344   \n",
       "2004-04-30     2731    2731     2731  105.48  89.7995  2.66014      1.92496   \n",
       "2004-05-31     2443    2443     2443     105  90.4729  2.84195      2.04215   \n",
       "2004-06-30     3229    3229     3229   104.8   89.155  2.95709      2.17655   \n",
       "\n",
       "             社融sum_MA11   新增社融sum  \n",
       "2004-02-29  2934.636364  0.307982  \n",
       "2004-03-31  3163.363636  0.360055  \n",
       "2004-04-30  3173.272727  0.290139  \n",
       "2004-05-31  3125.272727  0.216791  \n",
       "2004-06-30  2887.727273  0.009246  "
      ]
     },
     "execution_count": 17,
     "metadata": {},
     "output_type": "execute_result"
    }
   ],
   "source": [
    "alldata.head()"
   ]
  },
  {
   "cell_type": "code",
   "execution_count": 18,
   "metadata": {},
   "outputs": [],
   "source": [
    "newdata = alldata[['新增社融sum','国债收益率shift11','国房景气指数','美元指数']]\n",
    "newdata.columns = ['新增社融','国债收益率shift','国房景气指数','美元指数']"
   ]
  },
  {
   "cell_type": "code",
   "execution_count": 19,
   "metadata": {},
   "outputs": [
    {
     "name": "stderr",
     "output_type": "stream",
     "text": [
      "C:\\Users\\Administrator\\Anaconda3\\lib\\site-packages\\ipykernel_launcher.py:1: SettingWithCopyWarning: \n",
      "A value is trying to be set on a copy of a slice from a DataFrame.\n",
      "Try using .loc[row_indexer,col_indexer] = value instead\n",
      "\n",
      "See the caveats in the documentation: http://pandas.pydata.org/pandas-docs/stable/indexing.html#indexing-view-versus-copy\n",
      "  \"\"\"Entry point for launching an IPython kernel.\n"
     ]
    }
   ],
   "source": [
    "newdata['国债收益率shift'] = newdata['国债收益率shift']*(-1)"
   ]
  },
  {
   "cell_type": "code",
   "execution_count": 20,
   "metadata": {},
   "outputs": [],
   "source": [
    "newdata_standard = newdata/newdata.iloc[0]*100"
   ]
  },
  {
   "cell_type": "markdown",
   "metadata": {},
   "source": [
    "## 处理完成后的指标"
   ]
  },
  {
   "cell_type": "code",
   "execution_count": 21,
   "metadata": {},
   "outputs": [
    {
     "data": {
      "text/plain": [
       "<matplotlib.legend.Legend at 0x1a3413b9438>"
      ]
     },
     "execution_count": 21,
     "metadata": {},
     "output_type": "execute_result"
    },
    {
     "data": {
      "image/png": "[encoded data removed]",
      "text/plain": [
       "<Figure size 432x288 with 1 Axes>"
      ]
     },
     "metadata": {},
     "output_type": "display_data"
    }
   ],
   "source": [
    "newdata_standard.plot()\n",
    "plt.legend(prop=zhfont1)"
   ]
  },
  {
   "cell_type": "markdown",
   "metadata": {},
   "source": [
    "## 用社融和国房景气度两项求取主成分"
   ]
  },
  {
   "cell_type": "code",
   "execution_count": 27,
   "metadata": {},
   "outputs": [],
   "source": [
    "    newdata = newdata[['新增社融','国房景气指数']]\n",
    "    thetimes = newdata['2010':].index\n",
    "    Primary = pd.Series(index = thetimes)#存储主成分结果序列\n",
    "    Primary.iloc[0] = 100\n",
    "    weight = pd.DataFrame()#存储指标权重值\n",
    "    weight2 = pd.DataFrame()#储存权重值翻转处理后结果\n",
    "    midvalue = 100\n",
    "    midvalue2 = 100\n",
    "    loading = pd.DataFrame()#储存因子载荷\n",
    "    loading2 = pd.DataFrame()#因子载荷反转后结果\n",
    "    for time in thetimes[1:]:\n",
    "        strtime = str(time)\n",
    "        btime = str(int(strtime[:4])-5)+strtime[4:7]#滚动窗起始时间\n",
    "        thedata = newdata[btime:time]\n",
    "        thedata_standard = (thedata-thedata.mean())/thedata.std()#原始数据标准化\n",
    "        X = np.array(thedata_standard)\n",
    "        pca = PCA(n_components=1)#调包PCA\n",
    "        newX = pca.fit_transform(X)\n",
    "        PC = pd.DataFrame(newX)#窗口期内主成分序列结果\n",
    "        \n",
    "        spect = pca.components_#特征向量\n",
    "        contr = pca.explained_variance_ratio_[0]#方差贡献\n",
    "        theloading = spect*(contr**2)#因子载荷\n",
    "        loading = pd.concat([loading,pd.DataFrame(theloading)])\n",
    "        weight = pd.concat([weight,pd.DataFrame(spect)])\n",
    "        \n",
    "        PC = PC/theloading.sum()*100\n",
    "        PC = (PC - PC.mean())/PC.std()+100#进一步标准化\n",
    "        PC = PC/PC.iloc[0]*100\n",
    "        \n",
    "        change = PC.iloc[-1] - PC.iloc[-2]#获得窗口期主成分序列最后两项差值\n",
    "        midvalue = change + midvalue\n",
    "        Primary[time] = midvalue\n",
    "\n",
    "        if theloading.sum()<0:#判断因子载荷是否翻转\n",
    "            sign = -1\n",
    "        else:\n",
    "            sign = 1\n",
    "        #midvalue2 = sign * change + midvalue2\n",
    "        #Primary2[time] = midvalue2\n",
    "        loading2 = pd.concat([loading2,pd.DataFrame(theloading*sign)])\n",
    "        weight2 = pd.concat([weight2,pd.DataFrame(spect*sign)])\n",
    "    loading2.index = thetimes[1:]\n",
    "    loading2.columns = newdata.columns\n",
    "\n",
    "    loading.index = thetimes[1:]\n",
    "    loading.columns = newdata.columns\n",
    "\n",
    "    weight.index = thetimes[1:]\n",
    "    weight.columns = newdata.columns\n",
    "    weight2.index = thetimes[1:]\n",
    "    weight2.columns = newdata.columns"
   ]
  },
  {
   "cell_type": "markdown",
   "metadata": {},
   "source": [
    "## 严格按照上述步骤求出的主成分结果"
   ]
  },
  {
   "cell_type": "code",
   "execution_count": 28,
   "metadata": {},
   "outputs": [
    {
     "data": {
      "text/plain": [
       "<matplotlib.axes._subplots.AxesSubplot at 0x1a3428f40f0>"
      ]
     },
     "execution_count": 28,
     "metadata": {},
     "output_type": "execute_result"
    },
    {
     "data": {
      "image/png": "[encoded data removed]",
      "text/plain": [
       "<Figure size 936x360 with 1 Axes>"
      ]
     },
     "metadata": {},
     "output_type": "display_data"
    }
   ],
   "source": [
    "fig = plt.figure(figsize=(13,5))\n",
    "Primary['2010':'2018'].plot()"
   ]
  },
  {
   "cell_type": "markdown",
   "metadata": {},
   "source": [
    "### 因子载荷结果"
   ]
  },
  {
   "cell_type": "code",
   "execution_count": 29,
   "metadata": {},
   "outputs": [
    {
     "data": {
      "text/plain": [
       "<matplotlib.legend.Legend at 0x1a342b754a8>"
      ]
     },
     "execution_count": 29,
     "metadata": {},
     "output_type": "execute_result"
    },
    {
     "data": {
      "image/png": "[encoded data removed]",
      "text/plain": [
       "<Figure size 432x288 with 1 Axes>"
      ]
     },
     "metadata": {},
     "output_type": "display_data"
    }
   ],
   "source": [
    "loading.plot()\n",
    "plt.legend(prop=zhfont1)"
   ]
  },
  {
   "cell_type": "code",
   "execution_count": 34,
   "metadata": {},
   "outputs": [
    {
     "data": {
      "text/html": [
       "<div>\n",
       "<style scoped>\n",
       "    .dataframe tbody tr th:only-of-type {\n",
       "        vertical-align: middle;\n",
       "    }\n",
       "\n",
       "    .dataframe tbody tr th {\n",
       "        vertical-align: top;\n",
       "    }\n",
       "\n",
       "    .dataframe thead th {\n",
       "        text-align: right;\n",
       "    }\n",
       "</style>\n",
       "<table border=\"1\" class=\"dataframe\">\n",
       "  <thead>\n",
       "    <tr style=\"text-align: right;\">\n",
       "      <th></th>\n",
       "      <th>新增社融</th>\n",
       "      <th>国房景气指数</th>\n",
       "    </tr>\n",
       "  </thead>\n",
       "  <tbody>\n",
       "    <tr>\n",
       "      <th>2010-03-31</th>\n",
       "      <td>-0.707107</td>\n",
       "      <td>-0.707107</td>\n",
       "    </tr>\n",
       "    <tr>\n",
       "      <th>2010-04-30</th>\n",
       "      <td>-0.707107</td>\n",
       "      <td>-0.707107</td>\n",
       "    </tr>\n",
       "    <tr>\n",
       "      <th>2010-05-31</th>\n",
       "      <td>-0.707107</td>\n",
       "      <td>-0.707107</td>\n",
       "    </tr>\n",
       "    <tr>\n",
       "      <th>2010-06-30</th>\n",
       "      <td>-0.707107</td>\n",
       "      <td>-0.707107</td>\n",
       "    </tr>\n",
       "    <tr>\n",
       "      <th>2010-07-31</th>\n",
       "      <td>-0.707107</td>\n",
       "      <td>-0.707107</td>\n",
       "    </tr>\n",
       "    <tr>\n",
       "      <th>2010-08-31</th>\n",
       "      <td>-0.707107</td>\n",
       "      <td>-0.707107</td>\n",
       "    </tr>\n",
       "    <tr>\n",
       "      <th>2010-09-30</th>\n",
       "      <td>-0.707107</td>\n",
       "      <td>-0.707107</td>\n",
       "    </tr>\n",
       "    <tr>\n",
       "      <th>2010-10-31</th>\n",
       "      <td>-0.707107</td>\n",
       "      <td>-0.707107</td>\n",
       "    </tr>\n",
       "    <tr>\n",
       "      <th>2010-11-30</th>\n",
       "      <td>0.707107</td>\n",
       "      <td>-0.707107</td>\n",
       "    </tr>\n",
       "    <tr>\n",
       "      <th>2010-12-31</th>\n",
       "      <td>0.707107</td>\n",
       "      <td>-0.707107</td>\n",
       "    </tr>\n",
       "    <tr>\n",
       "      <th>2011-02-28</th>\n",
       "      <td>0.707107</td>\n",
       "      <td>-0.707107</td>\n",
       "    </tr>\n",
       "    <tr>\n",
       "      <th>2011-03-31</th>\n",
       "      <td>0.707107</td>\n",
       "      <td>-0.707107</td>\n",
       "    </tr>\n",
       "    <tr>\n",
       "      <th>2011-04-30</th>\n",
       "      <td>0.707107</td>\n",
       "      <td>-0.707107</td>\n",
       "    </tr>\n",
       "    <tr>\n",
       "      <th>2011-05-31</th>\n",
       "      <td>0.707107</td>\n",
       "      <td>-0.707107</td>\n",
       "    </tr>\n",
       "    <tr>\n",
       "      <th>2011-06-30</th>\n",
       "      <td>0.707107</td>\n",
       "      <td>-0.707107</td>\n",
       "    </tr>\n",
       "    <tr>\n",
       "      <th>2011-07-31</th>\n",
       "      <td>0.707107</td>\n",
       "      <td>-0.707107</td>\n",
       "    </tr>\n",
       "    <tr>\n",
       "      <th>2011-08-31</th>\n",
       "      <td>0.707107</td>\n",
       "      <td>-0.707107</td>\n",
       "    </tr>\n",
       "    <tr>\n",
       "      <th>2011-09-30</th>\n",
       "      <td>0.707107</td>\n",
       "      <td>-0.707107</td>\n",
       "    </tr>\n",
       "    <tr>\n",
       "      <th>2011-10-31</th>\n",
       "      <td>0.707107</td>\n",
       "      <td>-0.707107</td>\n",
       "    </tr>\n",
       "    <tr>\n",
       "      <th>2011-11-30</th>\n",
       "      <td>-0.707107</td>\n",
       "      <td>-0.707107</td>\n",
       "    </tr>\n",
       "    <tr>\n",
       "      <th>2011-12-31</th>\n",
       "      <td>0.707107</td>\n",
       "      <td>0.707107</td>\n",
       "    </tr>\n",
       "    <tr>\n",
       "      <th>2012-02-29</th>\n",
       "      <td>0.707107</td>\n",
       "      <td>0.707107</td>\n",
       "    </tr>\n",
       "    <tr>\n",
       "      <th>2012-03-31</th>\n",
       "      <td>0.707107</td>\n",
       "      <td>0.707107</td>\n",
       "    </tr>\n",
       "    <tr>\n",
       "      <th>2012-04-30</th>\n",
       "      <td>-0.707107</td>\n",
       "      <td>-0.707107</td>\n",
       "    </tr>\n",
       "    <tr>\n",
       "      <th>2012-05-31</th>\n",
       "      <td>-0.707107</td>\n",
       "      <td>-0.707107</td>\n",
       "    </tr>\n",
       "    <tr>\n",
       "      <th>2012-06-30</th>\n",
       "      <td>-0.707107</td>\n",
       "      <td>-0.707107</td>\n",
       "    </tr>\n",
       "    <tr>\n",
       "      <th>2012-07-31</th>\n",
       "      <td>-0.707107</td>\n",
       "      <td>-0.707107</td>\n",
       "    </tr>\n",
       "    <tr>\n",
       "      <th>2012-08-31</th>\n",
       "      <td>0.707107</td>\n",
       "      <td>0.707107</td>\n",
       "    </tr>\n",
       "    <tr>\n",
       "      <th>2012-09-30</th>\n",
       "      <td>0.707107</td>\n",
       "      <td>0.707107</td>\n",
       "    </tr>\n",
       "    <tr>\n",
       "      <th>2012-10-31</th>\n",
       "      <td>0.707107</td>\n",
       "      <td>0.707107</td>\n",
       "    </tr>\n",
       "    <tr>\n",
       "      <th>...</th>\n",
       "      <td>...</td>\n",
       "      <td>...</td>\n",
       "    </tr>\n",
       "    <tr>\n",
       "      <th>2016-07-31</th>\n",
       "      <td>0.707107</td>\n",
       "      <td>0.707107</td>\n",
       "    </tr>\n",
       "    <tr>\n",
       "      <th>2016-08-31</th>\n",
       "      <td>0.707107</td>\n",
       "      <td>0.707107</td>\n",
       "    </tr>\n",
       "    <tr>\n",
       "      <th>2016-09-30</th>\n",
       "      <td>0.707107</td>\n",
       "      <td>0.707107</td>\n",
       "    </tr>\n",
       "    <tr>\n",
       "      <th>2016-10-31</th>\n",
       "      <td>0.707107</td>\n",
       "      <td>0.707107</td>\n",
       "    </tr>\n",
       "    <tr>\n",
       "      <th>2016-11-30</th>\n",
       "      <td>0.707107</td>\n",
       "      <td>0.707107</td>\n",
       "    </tr>\n",
       "    <tr>\n",
       "      <th>2016-12-31</th>\n",
       "      <td>0.707107</td>\n",
       "      <td>0.707107</td>\n",
       "    </tr>\n",
       "    <tr>\n",
       "      <th>2017-02-28</th>\n",
       "      <td>0.707107</td>\n",
       "      <td>0.707107</td>\n",
       "    </tr>\n",
       "    <tr>\n",
       "      <th>2017-03-31</th>\n",
       "      <td>0.707107</td>\n",
       "      <td>0.707107</td>\n",
       "    </tr>\n",
       "    <tr>\n",
       "      <th>2017-04-30</th>\n",
       "      <td>0.707107</td>\n",
       "      <td>0.707107</td>\n",
       "    </tr>\n",
       "    <tr>\n",
       "      <th>2017-05-31</th>\n",
       "      <td>0.707107</td>\n",
       "      <td>0.707107</td>\n",
       "    </tr>\n",
       "    <tr>\n",
       "      <th>2017-06-30</th>\n",
       "      <td>0.707107</td>\n",
       "      <td>0.707107</td>\n",
       "    </tr>\n",
       "    <tr>\n",
       "      <th>2017-07-31</th>\n",
       "      <td>-0.707107</td>\n",
       "      <td>-0.707107</td>\n",
       "    </tr>\n",
       "    <tr>\n",
       "      <th>2017-08-31</th>\n",
       "      <td>-0.707107</td>\n",
       "      <td>-0.707107</td>\n",
       "    </tr>\n",
       "    <tr>\n",
       "      <th>2017-09-30</th>\n",
       "      <td>-0.707107</td>\n",
       "      <td>-0.707107</td>\n",
       "    </tr>\n",
       "    <tr>\n",
       "      <th>2017-10-31</th>\n",
       "      <td>-0.707107</td>\n",
       "      <td>-0.707107</td>\n",
       "    </tr>\n",
       "    <tr>\n",
       "      <th>2017-11-30</th>\n",
       "      <td>-0.707107</td>\n",
       "      <td>-0.707107</td>\n",
       "    </tr>\n",
       "    <tr>\n",
       "      <th>2017-12-31</th>\n",
       "      <td>-0.707107</td>\n",
       "      <td>-0.707107</td>\n",
       "    </tr>\n",
       "    <tr>\n",
       "      <th>2018-02-28</th>\n",
       "      <td>-0.707107</td>\n",
       "      <td>-0.707107</td>\n",
       "    </tr>\n",
       "    <tr>\n",
       "      <th>2018-03-31</th>\n",
       "      <td>-0.707107</td>\n",
       "      <td>-0.707107</td>\n",
       "    </tr>\n",
       "    <tr>\n",
       "      <th>2018-04-30</th>\n",
       "      <td>-0.707107</td>\n",
       "      <td>-0.707107</td>\n",
       "    </tr>\n",
       "    <tr>\n",
       "      <th>2018-05-31</th>\n",
       "      <td>-0.707107</td>\n",
       "      <td>-0.707107</td>\n",
       "    </tr>\n",
       "    <tr>\n",
       "      <th>2018-06-30</th>\n",
       "      <td>-0.707107</td>\n",
       "      <td>-0.707107</td>\n",
       "    </tr>\n",
       "    <tr>\n",
       "      <th>2018-07-31</th>\n",
       "      <td>-0.707107</td>\n",
       "      <td>-0.707107</td>\n",
       "    </tr>\n",
       "    <tr>\n",
       "      <th>2018-08-31</th>\n",
       "      <td>-0.707107</td>\n",
       "      <td>-0.707107</td>\n",
       "    </tr>\n",
       "    <tr>\n",
       "      <th>2018-09-30</th>\n",
       "      <td>-0.707107</td>\n",
       "      <td>-0.707107</td>\n",
       "    </tr>\n",
       "    <tr>\n",
       "      <th>2018-10-31</th>\n",
       "      <td>-0.707107</td>\n",
       "      <td>-0.707107</td>\n",
       "    </tr>\n",
       "    <tr>\n",
       "      <th>2018-11-30</th>\n",
       "      <td>-0.707107</td>\n",
       "      <td>-0.707107</td>\n",
       "    </tr>\n",
       "    <tr>\n",
       "      <th>2018-12-31</th>\n",
       "      <td>-0.707107</td>\n",
       "      <td>-0.707107</td>\n",
       "    </tr>\n",
       "    <tr>\n",
       "      <th>2019-02-28</th>\n",
       "      <td>-0.707107</td>\n",
       "      <td>-0.707107</td>\n",
       "    </tr>\n",
       "    <tr>\n",
       "      <th>2019-03-31</th>\n",
       "      <td>-0.707107</td>\n",
       "      <td>-0.707107</td>\n",
       "    </tr>\n",
       "  </tbody>\n",
       "</table>\n",
       "<p>100 rows × 2 columns</p>\n",
       "</div>"
      ],
      "text/plain": [
       "                新增社融    国房景气指数\n",
       "2010-03-31 -0.707107 -0.707107\n",
       "2010-04-30 -0.707107 -0.707107\n",
       "2010-05-31 -0.707107 -0.707107\n",
       "2010-06-30 -0.707107 -0.707107\n",
       "2010-07-31 -0.707107 -0.707107\n",
       "2010-08-31 -0.707107 -0.707107\n",
       "2010-09-30 -0.707107 -0.707107\n",
       "2010-10-31 -0.707107 -0.707107\n",
       "2010-11-30  0.707107 -0.707107\n",
       "2010-12-31  0.707107 -0.707107\n",
       "2011-02-28  0.707107 -0.707107\n",
       "2011-03-31  0.707107 -0.707107\n",
       "2011-04-30  0.707107 -0.707107\n",
       "2011-05-31  0.707107 -0.707107\n",
       "2011-06-30  0.707107 -0.707107\n",
       "2011-07-31  0.707107 -0.707107\n",
       "2011-08-31  0.707107 -0.707107\n",
       "2011-09-30  0.707107 -0.707107\n",
       "2011-10-31  0.707107 -0.707107\n",
       "2011-11-30 -0.707107 -0.707107\n",
       "2011-12-31  0.707107  0.707107\n",
       "2012-02-29  0.707107  0.707107\n",
       "2012-03-31  0.707107  0.707107\n",
       "2012-04-30 -0.707107 -0.707107\n",
       "2012-05-31 -0.707107 -0.707107\n",
       "2012-06-30 -0.707107 -0.707107\n",
       "2012-07-31 -0.707107 -0.707107\n",
       "2012-08-31  0.707107  0.707107\n",
       "2012-09-30  0.707107  0.707107\n",
       "2012-10-31  0.707107  0.707107\n",
       "...              ...       ...\n",
       "2016-07-31  0.707107  0.707107\n",
       "2016-08-31  0.707107  0.707107\n",
       "2016-09-30  0.707107  0.707107\n",
       "2016-10-31  0.707107  0.707107\n",
       "2016-11-30  0.707107  0.707107\n",
       "2016-12-31  0.707107  0.707107\n",
       "2017-02-28  0.707107  0.707107\n",
       "2017-03-31  0.707107  0.707107\n",
       "2017-04-30  0.707107  0.707107\n",
       "2017-05-31  0.707107  0.707107\n",
       "2017-06-30  0.707107  0.707107\n",
       "2017-07-31 -0.707107 -0.707107\n",
       "2017-08-31 -0.707107 -0.707107\n",
       "2017-09-30 -0.707107 -0.707107\n",
       "2017-10-31 -0.707107 -0.707107\n",
       "2017-11-30 -0.707107 -0.707107\n",
       "2017-12-31 -0.707107 -0.707107\n",
       "2018-02-28 -0.707107 -0.707107\n",
       "2018-03-31 -0.707107 -0.707107\n",
       "2018-04-30 -0.707107 -0.707107\n",
       "2018-05-31 -0.707107 -0.707107\n",
       "2018-06-30 -0.707107 -0.707107\n",
       "2018-07-31 -0.707107 -0.707107\n",
       "2018-08-31 -0.707107 -0.707107\n",
       "2018-09-30 -0.707107 -0.707107\n",
       "2018-10-31 -0.707107 -0.707107\n",
       "2018-11-30 -0.707107 -0.707107\n",
       "2018-12-31 -0.707107 -0.707107\n",
       "2019-02-28 -0.707107 -0.707107\n",
       "2019-03-31 -0.707107 -0.707107\n",
       "\n",
       "[100 rows x 2 columns]"
      ]
     },
     "execution_count": 34,
     "metadata": {},
     "output_type": "execute_result"
    }
   ],
   "source": [
    "weight"
   ]
  },
  {
   "cell_type": "markdown",
   "metadata": {},
   "source": [
    "### 权重结果"
   ]
  },
  {
   "cell_type": "code",
   "execution_count": 30,
   "metadata": {},
   "outputs": [
    {
     "data": {
      "text/plain": [
       "<matplotlib.legend.Legend at 0x1a342bc4a20>"
      ]
     },
     "execution_count": 30,
     "metadata": {},
     "output_type": "execute_result"
    },
    {
     "data": {
      "image/png": "[encoded data removed]",
      "text/plain": [
       "<Figure size 432x288 with 1 Axes>"
      ]
     },
     "metadata": {},
     "output_type": "display_data"
    }
   ],
   "source": [
    "weight.plot()\n",
    "plt.legend(prop=zhfont1)"
   ]
  },
  {
   "cell_type": "markdown",
   "metadata": {},
   "source": [
    "### 因子载荷翻转处理后"
   ]
  },
  {
   "cell_type": "code",
   "execution_count": 31,
   "metadata": {},
   "outputs": [
    {
     "data": {
      "text/plain": [
       "<matplotlib.legend.Legend at 0x1a342c3c908>"
      ]
     },
     "execution_count": 31,
     "metadata": {},
     "output_type": "execute_result"
    },
    {
     "data": {
      "image/png": "[encoded data removed]",
      "text/plain": [
       "<Figure size 432x288 with 1 Axes>"
      ]
     },
     "metadata": {},
     "output_type": "display_data"
    }
   ],
   "source": [
    "loading2.plot()\n",
    "plt.legend(prop=zhfont1)"
   ]
  },
  {
   "cell_type": "markdown",
   "metadata": {},
   "source": [
    "### 权重翻转处理后"
   ]
  },
  {
   "cell_type": "code",
   "execution_count": 32,
   "metadata": {},
   "outputs": [
    {
     "data": {
      "text/plain": [
       "<matplotlib.legend.Legend at 0x1a342cb13c8>"
      ]
     },
     "execution_count": 32,
     "metadata": {},
     "output_type": "execute_result"
    },
    {
     "data": {
      "image/png": "[encoded data removed]",
      "text/plain": [
       "<Figure size 432x288 with 1 Axes>"
      ]
     },
     "metadata": {},
     "output_type": "display_data"
    }
   ],
   "source": [
    "weight2.plot()\n",
    "plt.legend(prop=zhfont1)"
   ]
  },
  {
   "cell_type": "markdown",
   "metadata": {},
   "source": [
    "## 国债收益率数据读出与初步处理"
   ]
  },
  {
   "cell_type": "code",
   "execution_count": 35,
   "metadata": {},
   "outputs": [],
   "source": [
    "bondreturn = pd.read_excel('10年国债收益率.xls',index_col = 0)"
   ]
  },
  {
   "cell_type": "code",
   "execution_count": 36,
   "metadata": {},
   "outputs": [
    {
     "data": {
      "text/html": [
       "<div>\n",
       "<style scoped>\n",
       "    .dataframe tbody tr th:only-of-type {\n",
       "        vertical-align: middle;\n",
       "    }\n",
       "\n",
       "    .dataframe tbody tr th {\n",
       "        vertical-align: top;\n",
       "    }\n",
       "\n",
       "    .dataframe thead th {\n",
       "        text-align: right;\n",
       "    }\n",
       "</style>\n",
       "<table border=\"1\" class=\"dataframe\">\n",
       "  <thead>\n",
       "    <tr style=\"text-align: right;\">\n",
       "      <th></th>\n",
       "      <th>中债国债到期收益率:10年</th>\n",
       "    </tr>\n",
       "    <tr>\n",
       "      <th>指标名称</th>\n",
       "      <th></th>\n",
       "    </tr>\n",
       "  </thead>\n",
       "  <tbody>\n",
       "    <tr>\n",
       "      <th>2010-01-04</th>\n",
       "      <td>3.6603</td>\n",
       "    </tr>\n",
       "    <tr>\n",
       "      <th>2010-01-05</th>\n",
       "      <td>3.6606</td>\n",
       "    </tr>\n",
       "    <tr>\n",
       "      <th>2010-01-06</th>\n",
       "      <td>3.6425</td>\n",
       "    </tr>\n",
       "    <tr>\n",
       "      <th>2010-01-07</th>\n",
       "      <td>3.6543</td>\n",
       "    </tr>\n",
       "    <tr>\n",
       "      <th>2010-01-08</th>\n",
       "      <td>3.6614</td>\n",
       "    </tr>\n",
       "  </tbody>\n",
       "</table>\n",
       "</div>"
      ],
      "text/plain": [
       "            中债国债到期收益率:10年\n",
       "指标名称                     \n",
       "2010-01-04         3.6603\n",
       "2010-01-05         3.6606\n",
       "2010-01-06         3.6425\n",
       "2010-01-07         3.6543\n",
       "2010-01-08         3.6614"
      ]
     },
     "execution_count": 36,
     "metadata": {},
     "output_type": "execute_result"
    }
   ],
   "source": [
    "bondreturn.head()"
   ]
  },
  {
   "cell_type": "code",
   "execution_count": 41,
   "metadata": {},
   "outputs": [],
   "source": [
    "bondindex = Primary.index\n",
    "def get_monthreturn(bondreturn):\n",
    "    bondreturnM = pd.DataFrame(index = bondindex, columns = ['净值','收益率'])\n",
    "    colname = bondreturn.columns[0]\n",
    "    for thetime in bondindex:\n",
    "        themonth = str(thetime)[:7]\n",
    "        bondreturnM['净值'][thetime] = bondreturn[colname][themonth].iloc[-1]\n",
    "    bondreturnM['收益率'] = bondreturnM['净值']/bondreturnM['净值'].shift(1) - 1\n",
    "    bondreturnM = bondreturnM.fillna(0)\n",
    "    return bondreturnM"
   ]
  },
  {
   "cell_type": "code",
   "execution_count": 42,
   "metadata": {},
   "outputs": [],
   "source": [
    "bondreturnM = get_monthreturn(bondreturn)"
   ]
  },
  {
   "cell_type": "code",
   "execution_count": 43,
   "metadata": {},
   "outputs": [
    {
     "data": {
      "text/html": [
       "<div>\n",
       "<style scoped>\n",
       "    .dataframe tbody tr th:only-of-type {\n",
       "        vertical-align: middle;\n",
       "    }\n",
       "\n",
       "    .dataframe tbody tr th {\n",
       "        vertical-align: top;\n",
       "    }\n",
       "\n",
       "    .dataframe thead th {\n",
       "        text-align: right;\n",
       "    }\n",
       "</style>\n",
       "<table border=\"1\" class=\"dataframe\">\n",
       "  <thead>\n",
       "    <tr style=\"text-align: right;\">\n",
       "      <th></th>\n",
       "      <th>净值</th>\n",
       "      <th>收益率</th>\n",
       "    </tr>\n",
       "  </thead>\n",
       "  <tbody>\n",
       "    <tr>\n",
       "      <th>2010-02-28</th>\n",
       "      <td>3.3753</td>\n",
       "      <td>0.000000</td>\n",
       "    </tr>\n",
       "    <tr>\n",
       "      <th>2010-03-31</th>\n",
       "      <td>3.4818</td>\n",
       "      <td>0.031553</td>\n",
       "    </tr>\n",
       "    <tr>\n",
       "      <th>2010-04-30</th>\n",
       "      <td>3.3565</td>\n",
       "      <td>-0.035987</td>\n",
       "    </tr>\n",
       "    <tr>\n",
       "      <th>2010-05-31</th>\n",
       "      <td>3.2430</td>\n",
       "      <td>-0.033815</td>\n",
       "    </tr>\n",
       "    <tr>\n",
       "      <th>2010-06-30</th>\n",
       "      <td>3.2790</td>\n",
       "      <td>0.011101</td>\n",
       "    </tr>\n",
       "  </tbody>\n",
       "</table>\n",
       "</div>"
      ],
      "text/plain": [
       "                净值       收益率\n",
       "2010-02-28  3.3753  0.000000\n",
       "2010-03-31  3.4818  0.031553\n",
       "2010-04-30  3.3565 -0.035987\n",
       "2010-05-31  3.2430 -0.033815\n",
       "2010-06-30  3.2790  0.011101"
      ]
     },
     "execution_count": 43,
     "metadata": {},
     "output_type": "execute_result"
    }
   ],
   "source": [
    "bondreturnM.head()"
   ]
  },
  {
   "cell_type": "markdown",
   "metadata": {},
   "source": [
    "## 定义构造多空策略的函数"
   ]
  },
  {
   "cell_type": "code",
   "execution_count": 44,
   "metadata": {},
   "outputs": [],
   "source": [
    "def longshort_true(signal, monthreturn):\n",
    "    long = (signal.shift(1)>signal.shift(2))\n",
    "    longshort = long*2-1\n",
    "    strategy_month = longshort*monthreturn\n",
    "    cumprod = (strategy_month+1).cumprod()\n",
    "    return cumprod*100"
   ]
  },
  {
   "cell_type": "markdown",
   "metadata": {},
   "source": [
    "### 用严格按照步骤窗口处理获得的PCA序列做的多空策略结果"
   ]
  },
  {
   "cell_type": "code",
   "execution_count": 47,
   "metadata": {},
   "outputs": [
    {
     "data": {
      "text/plain": [
       "<matplotlib.axes._subplots.AxesSubplot at 0x1a3413aef98>"
      ]
     },
     "execution_count": 47,
     "metadata": {},
     "output_type": "execute_result"
    },
    {
     "data": {
      "image/png": "[encoded data removed]",
      "text/plain": [
       "<Figure size 432x288 with 1 Axes>"
      ]
     },
     "metadata": {},
     "output_type": "display_data"
    }
   ],
   "source": [
    "returns = longshort_true(Primary,bondreturnM['收益率'])\n",
    "returns.plot()"
   ]
  },
  {
   "cell_type": "code",
   "execution_count": 50,
   "metadata": {},
   "outputs": [
    {
     "data": {
      "text/plain": [
       "<matplotlib.axes._subplots.AxesSubplot at 0x1a343098390>"
      ]
     },
     "execution_count": 50,
     "metadata": {},
     "output_type": "execute_result"
    },
    {
     "data": {
      "image/png": "[encoded data removed]",
      "text/plain": [
       "<Figure size 432x288 with 1 Axes>"
      ]
     },
     "metadata": {},
     "output_type": "display_data"
    }
   ],
   "source": [
    "hs300 = pd.read_excel('沪深300.xls',index_col = 0)\n",
    "hs300M = get_monthreturn(hs300)\n",
    "returns = longshort_true(Primary,hs300M['收益率'])\n",
    "returns.plot()"
   ]
  },
  {
   "cell_type": "code",
   "execution_count": 51,
   "metadata": {},
   "outputs": [
    {
     "data": {
      "text/plain": [
       "<matplotlib.axes._subplots.AxesSubplot at 0x1a34308ce48>"
      ]
     },
     "execution_count": 51,
     "metadata": {},
     "output_type": "execute_result"
    },
    {
     "data": {
      "image/png": "[encoded data removed]",
      "text/plain": [
       "<Figure size 432x288 with 1 Axes>"
      ]
     },
     "metadata": {},
     "output_type": "display_data"
    }
   ],
   "source": [
    "NHindustry = pd.read_excel('南华工业品指数.xls',index_col = 0)\n",
    "NHindustryM = get_monthreturn(NHindustry)\n",
    "returns = longshort_true(Primary,NHindustryM['收益率'])\n",
    "returns.plot()"
   ]
  },
  {
   "cell_type": "code",
   "execution_count": 52,
   "metadata": {},
   "outputs": [],
   "source": [
    "bond1 = pd.read_excel('中债-国开行债券总财富(1-3年)指数.xlsx',usecols=[2,6],index_col=0)\n",
    "bond5 = pd.read_excel('中债-国开行债券总财富(3-5年)指数.xlsx',usecols=[2,6],index_col=0)\n",
    "bond10 = pd.read_excel('中债-国开行债券总财富(7-10年)指数.xlsx',usecols=[2,6],index_col=0)"
   ]
  },
  {
   "cell_type": "code",
   "execution_count": 53,
   "metadata": {},
   "outputs": [],
   "source": [
    "bond1M = get_monthreturn(bond1)\n",
    "bond5M = get_monthreturn(bond5)\n",
    "bond10M = get_monthreturn(bond10)"
   ]
  },
  {
   "cell_type": "code",
   "execution_count": 57,
   "metadata": {},
   "outputs": [],
   "source": [
    "def longshort3bond_true(signal, betterlong, bettershort, worselong, worseshort):\n",
    "    long = (signal.shift(1)>signal.shift(2))\n",
    "    longReturn = long*(betterlong-bettershort)\n",
    "    short = -long + 1\n",
    "    shortReturn = short*(worselong-worseshort)\n",
    "    strategy_month = longReturn+shortReturn\n",
    "    cumsum = strategy_month.cumsum()\n",
    "    return (cumsum+1)*100"
   ]
  },
  {
   "cell_type": "code",
   "execution_count": 58,
   "metadata": {},
   "outputs": [
    {
     "data": {
      "text/plain": [
       "<matplotlib.axes._subplots.AxesSubplot at 0x1a34305d710>"
      ]
     },
     "execution_count": 58,
     "metadata": {},
     "output_type": "execute_result"
    },
    {
     "data": {
      "image/png": "[encoded data removed]",
      "text/plain": [
       "<Figure size 432x288 with 1 Axes>"
      ]
     },
     "metadata": {},
     "output_type": "display_data"
    }
   ],
   "source": [
    "returns = longshort3bond_true(Primary,bond1M['收益率'],bond5M['收益率'],bond10M['收益率'],bond5M['收益率'])\n",
    "returns.plot()"
   ]
  }
 ],
 "metadata": {
  "kernelspec": {
   "display_name": "Python 3",
   "language": "python",
   "name": "python3"
  },
  "language_info": {
   "codemirror_mode": {
    "name": "ipython",
    "version": 3
   },
   "file_extension": ".py",
   "mimetype": "text/x-python",
   "name": "python",
   "nbconvert_exporter": "python",
   "pygments_lexer": "ipython3",
   "version": "3.6.5"
  }
 },
 "nbformat": 4,
 "nbformat_minor": 2
}
